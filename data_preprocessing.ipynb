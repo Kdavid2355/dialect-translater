{
 "cells": [
  {
   "cell_type": "code",
   "execution_count": 1,
   "metadata": {},
   "outputs": [],
   "source": [
    "import pandas as pd\n",
    "import os"
   ]
  },
  {
   "cell_type": "code",
   "execution_count": 10,
   "metadata": {},
   "outputs": [],
   "source": [
    "folder_path = './data/1'\n",
    "folder_path2 = './data/2'"
   ]
  },
  {
   "cell_type": "code",
   "execution_count": 11,
   "metadata": {},
   "outputs": [],
   "source": [
    "csv_list1 = os.listdir('./data/1/')\n",
    "csv_list2 = os.listdir('./data/2')"
   ]
  },
  {
   "cell_type": "code",
   "execution_count": 12,
   "metadata": {},
   "outputs": [],
   "source": [
    "all_data1 = pd.concat([pd.read_csv(os.path.join(folder_path, file)) for file in csv_list1])\n",
    "all_data2 = pd.concat([pd.read_csv(os.path.join(folder_path2, file)) for file in csv_list2])"
   ]
  },
  {
   "cell_type": "code",
   "execution_count": 13,
   "metadata": {},
   "outputs": [],
   "source": [
    "all_data1.reset_index(drop=True, inplace=True)\n",
    "all_data2.reset_index(drop=True, inplace=True)\n",
    "df = pd.concat([all_data1, all_data2]).reset_index(drop=True)"
   ]
  },
  {
   "cell_type": "code",
   "execution_count": null,
   "metadata": {},
   "outputs": [],
   "source": [
    "import re\n",
    "\n",
    "def remove_special_characters(text):\n",
    "    text = re.sub('[^A-Za-z0-9가-힣 ]', '', text)\n",
    "    return text\n",
    "\n",
    "df['표준어'] = df['표준어'].apply(remove_special_characters)\n",
    "df['방언'] = df['방언'].apply(remove_special_characters)\n",
    "\n",
    "only_df = df[df['표준어'] != result['방언']]\n",
    "\n",
    "only_df.reset_index(drop=True,inplace=True)\n",
    "only_df.to_csv('./data/merge.csv',index=0)"
   ]
  },
  {
   "cell_type": "code",
   "execution_count": null,
   "metadata": {},
   "outputs": [],
   "source": [
    "only_df"
   ]
  }
 ],
 "metadata": {
  "kernelspec": {
   "display_name": "base",
   "language": "python",
   "name": "python3"
  },
  "language_info": {
   "codemirror_mode": {
    "name": "ipython",
    "version": 3
   },
   "file_extension": ".py",
   "mimetype": "text/x-python",
   "name": "python",
   "nbconvert_exporter": "python",
   "pygments_lexer": "ipython3",
   "version": "3.10.12"
  },
  "orig_nbformat": 4,
  "vscode": {
   "interpreter": {
    "hash": "4bfe8f058de2f3f7c1ef85c9b42e886b171db2904d5ebd84f288530a2663e494"
   }
  }
 },
 "nbformat": 4,
 "nbformat_minor": 2
}
